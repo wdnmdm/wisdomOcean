{
 "cells": [
  {
   "cell_type": "markdown",
   "metadata": {},
   "source": [
    "此部分为智慧海洋建设竞赛的模型建立模块。在该模块中主要介绍了如何进行模型建立并对模型调优。\n",
    "## 学习目标\n",
    "学习如何选择合适的模型以及如何通过模型来进行特征选择  \n",
    "掌握随机森林、lightGBM、Xgboost模型的使用。  \n",
    "掌握贝叶斯优化方法的具体使用  \n",
    "## 内容介绍\n",
    "模型训练与预测  \n",
    "随机森林  \n",
    "lightGBM模型  \n",
    "Xgboost模型  \n",
    "交叉验证  \n",
    "模型调参  "
   ]
  },
  {
   "cell_type": "code",
   "execution_count": null,
   "metadata": {},
   "outputs": [],
   "source": []
  }
 ],
 "metadata": {
  "kernelspec": {
   "display_name": "Python 3",
   "language": "python",
   "name": "python3"
  },
  "language_info": {
   "codemirror_mode": {
    "name": "ipython",
    "version": 3
   },
   "file_extension": ".py",
   "mimetype": "text/x-python",
   "name": "python",
   "nbconvert_exporter": "python",
   "pygments_lexer": "ipython3",
   "version": "3.7.0"
  }
 },
 "nbformat": 4,
 "nbformat_minor": 2
}
